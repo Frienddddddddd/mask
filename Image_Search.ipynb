{
  "nbformat": 4,
  "nbformat_minor": 0,
  "metadata": {
    "colab": {
      "provenance": [],
      "gpuType": "T4",
      "machine_shape": "hm",
      "include_colab_link": true
    },
    "kernelspec": {
      "name": "python3",
      "display_name": "Python 3"
    },
    "language_info": {
      "name": "python"
    },
    "accelerator": "GPU"
  },
  "cells": [
    {
      "cell_type": "markdown",
      "metadata": {
        "id": "view-in-github",
        "colab_type": "text"
      },
      "source": [
        "<a href=\"https://colab.research.google.com/github/Frienddddddddd/mask/blob/main/Image_Search.ipynb\" target=\"_parent\"><img src=\"https://colab.research.google.com/assets/colab-badge.svg\" alt=\"Open In Colab\"/></a>"
      ]
    },
    {
      "cell_type": "code",
      "source": [
        "!pip install -q kaggle\n",
        "import json\n",
        "\n",
        "username = \"suchanaree\"\n",
        "key = \"5ba00f6bc2b2c01aae5726d1722751b3\"\n",
        "data = {\"username\": username, \"key\": key}\n",
        "json_data = json.dumps(data)\n",
        "\n",
        "# Write the JSON string to a file\n",
        "file_path = \"/content/kaggle.json\"\n",
        "with open(file_path, 'w') as json_file:\n",
        "    json_file.write(json_data)"
      ],
      "metadata": {
        "id": "3FODqqtQbSBE"
      },
      "execution_count": 9,
      "outputs": []
    },
    {
      "cell_type": "code",
      "source": [
        "!mkdir ~/.kaggle\n",
        "!cp /content/kaggle.json ~/.kaggle/ #copy api key ---- depend on your directory -- my directory is .../colab/..\n",
        "!chmod 600 ~/.kaggle/kaggle.json\n",
        "!kaggle datasets list\n",
        "!kaggle competitions download -c image-search #download competition dataset"
      ],
      "metadata": {
        "colab": {
          "base_uri": "https://localhost:8080/"
        },
        "id": "pc_jRDzaUzV-",
        "outputId": "915c5936-d0a1-4288-8d05-f51bbec7a696"
      },
      "execution_count": 10,
      "outputs": [
        {
          "output_type": "stream",
          "name": "stdout",
          "text": [
            "mkdir: cannot create directory ‘/root/.kaggle’: File exists\n",
            "Warning: Looks like you're using an outdated API Version, please consider updating (server 1.6.4 / client 1.5.16)\n",
            "ref                                                                title                                               size  lastUpdated          downloadCount  voteCount  usabilityRating  \n",
            "-----------------------------------------------------------------  -------------------------------------------------  -----  -------------------  -------------  ---------  ---------------  \n",
            "nelgiriyewithana/apple-quality                                     Apple Quality                                      170KB  2024-01-11 14:31:07           7658        185  1.0              \n",
            "hummaamqaasim/jobs-in-data                                         Jobs and Salaries in Data Science                   76KB  2023-12-25 20:03:32          13787        250  1.0              \n",
            "willianoliveiragibin/qs-top-100-universities                       QS top 100 universities                              4KB  2024-01-21 20:40:02            908         22  1.0              \n",
            "asaniczka/video-game-sales-2024                                    Video Game Sales 2024                                2MB  2024-01-29 15:58:39           1175         29  1.0              \n",
            "elvinrustam/ebay-laptops-and-netbooks-sales                        Ebay Laptops & Netbooks Sales                      523KB  2024-01-27 21:46:57            783         29  1.0              \n",
            "willianoliveiragibin/financial-data                                Financial_Data                                      28KB  2024-01-27 21:29:52           1160         40  1.0              \n",
            "yashusinghal/electric-vehicle-population-dataset                   Electric Vehicle Population Dataset                  5MB  2024-01-27 16:47:10           1173         32  1.0              \n",
            "malingarajapaksha/my-spotify-data-cleaned                          My Spotify Data - Cleaned                            3MB  2024-01-26 02:54:16            589         21  1.0              \n",
            "missionjee/car-sales-report                                        Car Sales Report                                   657KB  2024-01-20 20:11:42           2327         51  1.0              \n",
            "saimondahal/life-expectancy-trends-for-males-and-females           Life Expectancy Trends for Males and Females       263KB  2024-01-28 09:26:09            946         30  1.0              \n",
            "computingvictor/zillow-market-analysis-and-real-estate-sales-data  🏠 Airbnb Market Analysis & Real Estate Sales Data    3MB  2024-01-26 16:29:34           1350         36  1.0              \n",
            "shiivvvaam/largest-companies-by-market-cap                         Top Global Companies by Market Capitalization.     548KB  2024-01-29 17:32:00            574         31  0.9411765        \n",
            "saketk511/travel-dataset-guide-to-indias-must-see-places           Travel Dataset: Guide to India's Must See Places     9KB  2024-01-31 07:55:47            578         23  1.0              \n",
            "mrsimple07/clothes-price-prediction                                Clothes Price Prediction                             6KB  2024-01-30 09:55:21            743         29  1.0              \n",
            "najeebz/electronic-card-transactions-dec-2023-new-zealand          Electronic Card Transactions 2000-2023             127KB  2024-01-24 02:48:11            851         24  1.0              \n",
            "nelgiriyewithana/new-york-housing-market                           New York Housing Market                            271KB  2024-01-06 16:41:00           4870        109  1.0              \n",
            "juledz/heart-attack-prediction                                     Heart Attack Prediction                              8KB  2024-01-19 16:11:46           2006         44  1.0              \n",
            "mechatronixs/english-premier-league-22-23-season-stats             English Premier League 22-23 Season Stats          129KB  2024-01-31 18:36:40            587         26  0.7058824        \n",
            "mrsimple07/student-exam-performance-prediction                     Student Exam Performance Prediction                 10KB  2024-01-14 12:02:45           2937         57  1.0              \n",
            "nelgiriyewithana/global-covid-trend                                Global Covid Trend                                 549KB  2024-01-26 15:36:29           1026         34  1.0              \n",
            "image-search.zip: Skipping, found more recently modified local copy (use --force to force download)\n"
          ]
        }
      ]
    },
    {
      "cell_type": "code",
      "source": [
        "!unzip /content/image-search.zip"
      ],
      "metadata": {
        "id": "5P1QbIgLVUmn",
        "colab": {
          "base_uri": "https://localhost:8080/"
        },
        "outputId": "d1acbd01-b02c-4332-fe33-3affdc8676a9"
      },
      "execution_count": null,
      "outputs": [
        {
          "output_type": "stream",
          "name": "stdout",
          "text": [
            "Archive:  /content/image-search.zip\n",
            "replace queries/queries/0.jpg? [y]es, [n]o, [A]ll, [N]one, [r]ename: "
          ]
        }
      ]
    },
    {
      "cell_type": "code",
      "source": [
        "from transformers import (\n",
        "    AutoModel,\n",
        "    CLIPProcessor\n",
        ")\n",
        "import os\n",
        "import pandas as pd\n",
        "from PIL import Image\n",
        "import torch\n",
        "\n",
        "\n",
        "if __name__ == '__main__':\n",
        "    src_dir = 'test/images'\n",
        "    query_dir = 'queries/queries'\n",
        "    submission = pd.read_csv('sample_submission.csv')\n",
        "    model = AutoModel.from_pretrained('openai/clip-vit-large-patch14-336').cuda().eval()\n",
        "    processor = CLIPProcessor.from_pretrained('openai/clip-vit-large-patch14-336')\n",
        "\n",
        "    submission['dot_class'] = 22\n",
        "    submission['cosine_class'] = 22\n",
        "    with torch.no_grad():\n",
        "        query_images = []\n",
        "        query_classes = []\n",
        "        for file in os.listdir(query_dir):\n",
        "            inputs = processor(images=[Image.open(os.path.join(query_dir, file)).convert('RGB')], return_tensors='pt').to('cuda')\n",
        "            outputs = model.get_image_features(inputs.pixel_values).cpu()\n",
        "            outputs = outputs / outputs.norm(p=2, dim=-1, keepdim=True)\n",
        "            query_images.append(outputs)\n",
        "            query_classes.append(int(file[:-4]))\n",
        "        query_images = torch.cat(query_images)\n",
        "        for idx, row in submission.iterrows():\n",
        "            if not pd.isna(row['class']):\n",
        "                continue\n",
        "            inputs = processor(images=[Image.open(os.path.join(src_dir, row['img_file'])).convert('RGB')], return_tensors='pt').to('cuda')\n",
        "            outputs = model.get_image_features(inputs.pixel_values).cpu()\n",
        "            outputs = outputs / outputs.norm(p=2, dim=-1, keepdim=True)\n",
        "            values = outputs @ query_images.T\n",
        "            if values.softmax(1).max() > .055:\n",
        "                submission.at[idx, 'dot_class'] = query_classes[values.argmax().numpy().tolist()]\n",
        "            cosine = torch.cosine_similarity(outputs, query_images)\n",
        "            if cosine.max() > 0.8:\n",
        "                submission.at[idx, 'cosine_class'] = query_classes[cosine.argmax().numpy().tolist()]\n",
        "\n",
        "        sub = submission[['img_file',]]\n",
        "        sub['class'] = submission['dot_class']\n",
        "        sub.to_csv('dot_product.csv', index=False)\n",
        "        sub['class'] = submission['cosine_class']\n",
        "        sub.to_csv('cosine_similarity.csv', index=False)\n"
      ],
      "metadata": {
        "id": "vesrsQ6aS-Mp"
      },
      "execution_count": null,
      "outputs": []
    },
    {
      "cell_type": "code",
      "source": [
        "!kaggle competitions submit -c image-search -f /content/dot_product.csv -m \"dot product openai/clip-vit-large-patch14-336\""
      ],
      "metadata": {
        "id": "zduWrQdrWyJ1"
      },
      "execution_count": null,
      "outputs": []
    },
    {
      "cell_type": "code",
      "source": [],
      "metadata": {
        "id": "xEWDGwxWVWNs"
      },
      "execution_count": null,
      "outputs": []
    }
  ]
}